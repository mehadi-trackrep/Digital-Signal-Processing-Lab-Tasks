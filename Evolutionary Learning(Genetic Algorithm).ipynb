{
 "cells": [
  {
   "cell_type": "markdown",
   "metadata": {},
   "source": [
    "# Practice "
   ]
  },
  {
   "cell_type": "code",
   "execution_count": 20,
   "metadata": {
    "collapsed": false
   },
   "outputs": [
    {
     "name": "stdout",
     "output_type": "stream",
     "text": [
      "[ 0.99500417  0.70595862  0.09660425 -0.55658157 -0.9572342  -0.92356879\n",
      " -0.47086008  0.19548812  0.77313909  1.        ]\n"
     ]
    },
    {
     "data": {
      "image/png": "[encoded data removed]",
      "text/plain": [
       "<matplotlib.figure.Figure at 0x7fdc305e5668>"
      ]
     },
     "metadata": {},
     "output_type": "display_data"
    }
   ],
   "source": [
    "import matplotlib.pyplot as plt\n",
    "import numpy as np\n",
    "\n",
    "# returns 10 evenly spaced samples from 0.1 to 2*PI\n",
    "x = np.linspace(0.1, 2 * np.pi, 10)\n",
    "\n",
    "plt.stem(x, np.cos(x), '-.')\n",
    "\n",
    "print ( np.cos(x) )\n",
    "\n",
    "# setting property of baseline with color red and linewidth 2\n",
    "plt.setp(baseline, color='r', linewidth=2)\n",
    "\n",
    "plt.show()"
   ]
  },
  {
   "cell_type": "code",
   "execution_count": 4,
   "metadata": {
    "collapsed": false
   },
   "outputs": [
    {
     "name": "stdout",
     "output_type": "stream",
     "text": [
      "3\n",
      "4\n",
      "5\n",
      "[[0, 0], [0, 1], [0, 2], [0, 3], [0, 4], [1, 0], [1, 1], [1, 2], [1, 3], [2, 0], [2, 1], [2, 2], [2, 4], [3, 0], [3, 1], [3, 3], [3, 4]]\n"
     ]
    }
   ],
   "source": [
    "x = int ( input()) \n",
    "y = int ( input()) \n",
    "n = int ( input()) \n",
    "print ([ [ i, j] for i in range( x + 1) for j in range( y + 1) if ( ( i + j ) != n )])"
   ]
  },
  {
   "cell_type": "code",
   "execution_count": 26,
   "metadata": {
    "collapsed": false
   },
   "outputs": [
    {
     "data": {
      "text/plain": [
       "[(3, 4, 5),\n",
       " (5, 12, 13),\n",
       " (6, 8, 10),\n",
       " (7, 24, 25),\n",
       " (8, 15, 17),\n",
       " (9, 12, 15),\n",
       " (10, 24, 26),\n",
       " (12, 16, 20),\n",
       " (15, 20, 25),\n",
       " (20, 21, 29)]"
      ]
     },
     "execution_count": 26,
     "metadata": {},
     "output_type": "execute_result"
    }
   ],
   "source": [
    "[(x,y,z) for x in range(1,30) for y in range(x,30) for z in range(y,30) if x**2 + y**2 == z**2]"
   ]
  },
  {
   "cell_type": "code",
   "execution_count": 1,
   "metadata": {
    "collapsed": false
   },
   "outputs": [
    {
     "data": {
      "image/png": "[encoded data removed]",
      "text/plain": [
       "<matplotlib.figure.Figure at 0x7f0a1c389588>"
      ]
     },
     "metadata": {},
     "output_type": "display_data"
    }
   ],
   "source": [
    "import numpy as np\n",
    "import matplotlib.pyplot as plt\n",
    "\n",
    "T = 50\n",
    "f = 1/T\n",
    "num_cycles = 4\n",
    "\n",
    "t = np.arange(1,T*num_cycles+0.25,0.25)\n",
    "\n",
    "# print (t)\n",
    "\n",
    "y = np.sin(2*np.pi*f*t)\n",
    "\n",
    "plt.plot(y)\n",
    "plt.show()"
   ]
  },
  {
   "cell_type": "code",
   "execution_count": 120,
   "metadata": {
    "collapsed": false
   },
   "outputs": [
    {
     "name": "stdout",
     "output_type": "stream",
     "text": [
      "TARGET_ASCII,  [ 89 111 117  32 103 101 116  32 105 116  33] \n",
      "\n",
      "START######################\n",
      "Gen 0 :  v9u0ExbVl4t\n",
      "idx:  [2 3 3 2 3 2 3 2 3 3]\n",
      "self.pop[idx]:  [[118  57 117  48  69 120  98  86 108  52 116]\n",
      " [ 89  65  42  92 124  99  43  74  79  37  36]\n",
      " [ 89  65  42  92 124  99  43  74  79  37  36]\n",
      " [118  57 117  48  69 120  98  86 108  52 116]\n",
      " [ 89  65  42  92 124  99  43  74  79  37  36]\n",
      " [118  57 117  48  69 120  98  86 108  52 116]\n",
      " [ 89  65  42  92 124  99  43  74  79  37  36]\n",
      " [118  57 117  48  69 120  98  86 108  52 116]\n",
      " [ 89  65  42  92 124  99  43  74  79  37  36]\n",
      " [ 89  65  42  92 124  99  43  74  79  37  36]]\n",
      "[ True False False  True False  True  True  True  True False  True]\n",
      "child:  [ 89  57 117  92  69  99  43  74  79  52  36]\n",
      "[ True  True  True  True  True  True  True  True  True  True  True]\n",
      "child:  [ 89  65  42  92 124  99  43  74  79  37  36]\n",
      "[ True False  True  True False  True  True False  True  True  True]\n",
      "child:  [ 89  65  42  92 124  99  43  74  79  37  36]\n",
      "[False False False  True  True False  True False  True False  True]\n",
      "child:  [118  57 117  48  69 120  98  86 108  52 116]\n",
      "[ True  True  True False  True False False False False False  True]\n",
      "child:  [ 89  65  42  92 124  99  43  74  79  37  36]\n",
      "child:  [118  57 117  48  69 120  98  86 108  52 116]\n",
      "[False False  True False False False False  True  True  True  True]\n",
      "child:  [ 89  65  42  92 124  99  43  74  79  37  36]\n",
      "child:  [118  57 117  48  69 120  98  86 108  52 116]\n",
      "child:  [ 89  65  42  92 124  99  43  74  79  37  36]\n",
      "child:  [ 89  65  42  92 124  99  43  74  79  37  36]\n",
      "END######################\n",
      "\n",
      "START######################\n",
      "Gen 1 :  Y9u\\Ec+JO4$\n",
      "idx:  [9 4 0 2 6 0 1 3 0 4]\n",
      "self.pop[idx]:  [[ 89  65  74  92  87  99  43  74  79  37  36]\n",
      " [ 89  65  42  92 124  99  43  74  79  37  36]\n",
      " [ 89  57 117  92  69  99  43  74  79  52  36]\n",
      " [ 89  65  42  92 124  99  43  74  79  37  36]\n",
      " [ 89  65  42  92 124  99  43  74  79  37  36]\n",
      " [ 89  57 117  92  69  99  43  74  79  52  36]\n",
      " [ 89  65  42  92 124  99  43  74  79  37  36]\n",
      " [118  57 117  48  69 120  98  86 108  52 116]\n",
      " [ 89  57 117  92  69  99  43  74  79  52  36]\n",
      " [ 89  65  42  92 124  99  43  74  79  37  36]]\n",
      "child:  [89 65 74 92 87 99 43 74 79 37 36]\n",
      "[False False False  True False  True  True  True  True False  True]\n",
      "child:  [ 89  65  42  92 124  99  43  74  79  37  36]\n",
      "child:  [ 89  57 117  92  69  99  43  74  79  52  36]\n",
      "child:  [ 89  65  42  92 124  99  43  74  79  37  36]\n",
      "[False  True  True  True  True  True  True False False  True False]\n",
      "child:  [ 89  65  42  92 124  99  43  74  79  37  36]\n",
      "[False  True False  True False  True False False False False False]\n",
      "child:  [ 89  57 117  92  69  99  43  74  79  52  36]\n",
      "[False  True False False  True False  True  True  True  True  True]\n",
      "child:  [ 89  65  42  92 124  99  43  74  79  37  36]\n",
      "[False False False False False False False False  True  True  True]\n",
      "child:  [118  57 117  48  69 120  98  86  79  37  36]\n",
      "child:  [ 89  57 117  92  69  99  43  74  79  52  36]\n",
      "child:  [ 89  65  42  92 124  99  43  74  79  37  36]\n",
      "END######################\n",
      "\n"
     ]
    }
   ],
   "source": [
    "\"\"\"\n",
    "Visualize Genetic Algorithm to match the target phrase.\n",
    "Visit my tutorial website for more: https://morvanzhou.github.io/tutorials/\n",
    "\"\"\"\n",
    "import numpy as np\n",
    "\n",
    "TARGET_PHRASE = 'You get it!'       # target DNA\n",
    "POP_SIZE = 10                      # population size\n",
    "CROSS_RATE = 0.4                    # mating probability (DNA crossover)\n",
    "MUTATION_RATE = 0.01                # mutation probability\n",
    "N_GENERATIONS = 1000\n",
    "\n",
    "DNA_SIZE = len(TARGET_PHRASE)\n",
    "TARGET_ASCII = np.fromstring(TARGET_PHRASE, dtype=np.uint8)  # convert string to number\n",
    "\n",
    "print ('TARGET_ASCII, ',TARGET_ASCII, '\\n')\n",
    "\n",
    "ASCII_BOUND = [32, 126]\n",
    "\n",
    "\n",
    "class GA(object):\n",
    "    def __init__(self, DNA_size, DNA_bound, cross_rate, mutation_rate, pop_size):\n",
    "        self.DNA_size = DNA_size\n",
    "        #DNA_bound[1] += 1\n",
    "        self.DNA_bound = DNA_bound\n",
    "        self.cross_rate = cross_rate\n",
    "        self.mutate_rate = mutation_rate\n",
    "        self.pop_size = pop_size\n",
    "\n",
    "        self.pop = np.random.randint(*DNA_bound, size=(pop_size, DNA_size)).astype(np.int8)  # int8 for convert to ASCII\n",
    "\n",
    "    def translateDNA(self, DNA):                 # convert to readable string\n",
    "        return DNA.tostring().decode('ascii')\n",
    "\n",
    "    def get_fitness(self):                      # count how many character matches\n",
    "        match_count = (self.pop == TARGET_ASCII).sum(axis=1)\n",
    "#         print ('match_count: ', match_count)\n",
    "        return match_count\n",
    "\n",
    "    def select(self):\n",
    "        fitness = self.get_fitness() + 1e-4     # add a small amount to avoid all zero fitness\n",
    "        idx = np.random.choice(np.arange(self.pop_size), size=self.pop_size, replace=True, p=fitness/fitness.sum())\n",
    "        \n",
    "        print ('idx: ', idx)\n",
    "        print ('self.pop[idx]: ', self.pop[idx])\n",
    "        \n",
    "        return self.pop[idx]\n",
    "\n",
    "    def crossover(self, parent, pop):\n",
    "        if np.random.rand() < self.cross_rate:\n",
    "            i_ = np.random.randint(0, self.pop_size, size=1)                        # select another individual from pop\n",
    "            cross_points = np.random.randint(0, 2, self.DNA_size).astype(np.bool)   # choose crossover points\n",
    "            print (cross_points)\n",
    "            parent[cross_points] = pop[i_, cross_points]                            # mating and produce one child\n",
    "        return parent\n",
    "\n",
    "    def mutate(self, child):\n",
    "        for point in range(self.DNA_size):\n",
    "            if np.random.rand() < self.mutate_rate:\n",
    "                child[point] = np.random.randint(*self.DNA_bound)  # choose a random ASCII index\n",
    "                print \n",
    "        return child\n",
    "\n",
    "    def evolve(self):\n",
    "        pop = self.select()\n",
    "        pop_copy = pop.copy()\n",
    "        for parent in pop:  # for every parent\n",
    "            child = self.crossover(parent, pop_copy)\n",
    "            print ('child: ', child)\n",
    "            child = self.mutate(child)\n",
    "            \n",
    "            parent[:] = child\n",
    "            \n",
    "        self.pop = pop\n",
    "\n",
    "if __name__ == '__main__':\n",
    "    ga = GA(DNA_size=DNA_SIZE, DNA_bound=ASCII_BOUND, cross_rate=CROSS_RATE,\n",
    "            mutation_rate=MUTATION_RATE, pop_size=POP_SIZE)\n",
    "    \n",
    "    ########CHECK ---\n",
    "    N_GENERATIONS = 2\n",
    "    \n",
    "    for generation in range(N_GENERATIONS):\n",
    "        print ('START######################')\n",
    "        fitness = ga.get_fitness()\n",
    "#         print('fitness: ', fitness)\n",
    "#         print('max_fit: ', np.argmax(fitness))\n",
    "#         print ('ga.pop: ', ga.pop)\n",
    "        best_DNA = ga.pop[np.argmax(fitness)]\n",
    "        \n",
    "        best_phrase = ga.translateDNA(best_DNA)\n",
    "        print('Gen', generation, ': ', best_phrase)\n",
    "#         print('Gen -> ASCII : ', best_DNA)\n",
    "        if best_phrase == TARGET_PHRASE:\n",
    "            break\n",
    "        ga.evolve()\n",
    "        print ('END######################\\n')"
   ]
  },
  {
   "cell_type": "code",
   "execution_count": 119,
   "metadata": {
    "collapsed": false
   },
   "outputs": [
    {
     "name": "stdout",
     "output_type": "stream",
     "text": [
      "[[0 4]\n",
      " [4 0]\n",
      " [3 3]\n",
      " [0 3]]\n",
      "4\n",
      "0\n",
      "2\n",
      "[False  True  True False  True  True  True False  True False False]\n",
      "[7]\n",
      "[3 0 2]\n"
     ]
    }
   ],
   "source": [
    "import numpy as np\n",
    "np.random.rand()\n",
    "# np.random.randint(3, 12, size=1)  \n",
    "\n",
    "print (np.random.randint(5, size=(4, 2)))\n",
    "\n",
    "arr = ([[0, 1, 2],\n",
    "       [3, 5, 4]])\n",
    "arr1 = ([[5, 1, 2],\n",
    "       [3, 4, 0]])\n",
    "arr2 = ([[0, 1, 5],\n",
    "       [3, 4, 2]])\n",
    "\n",
    "\n",
    "print (np.argmax(arr))\n",
    "print (np.argmax(arr1))\n",
    "print (np.argmax(arr2))\n",
    "\n",
    "print (np.random.randint(0, 2, 11).astype(np.bool))\n",
    "print (np.random.randint(0, 12, size=1)  )\n",
    "\n",
    "TARGET_PHRASE = 'You get it!'       # target DNA\n",
    "POP_SIZE = 10                      # population size\n",
    "CROSS_RATE = 0.4                    # mating probability (DNA crossover)\n",
    "MUTATION_RATE = 0.01                # mutation probability\n",
    "N_GENERATIONS = 1000\n",
    "\n",
    "DNA_SIZE = len(TARGET_PHRASE)\n",
    "# print (DNA_SIZE)\n",
    "\n",
    "# pop = [[ 98, 112,  38,  89,  86, 105, 116,  59,  60, 115,  58],\n",
    "#        [100,  72,  37,  41, 100, 121,  49, 117,  59,  60,  33],\n",
    "#        [100,  72,  37,  41, 100, 121,  49, 117,  59,  60,  33],\n",
    "#        [100,  72,  37,  41, 100, 121,  49, 117,  59,  60,  33],\n",
    "#        [100,  72,  37,  41, 100, 121,  49, 117,  59,  60,  33],\n",
    "#        [100,  72,  37,  41, 100, 121,  49, 117,  59,  60,  33],\n",
    "#        [100,  72,  37,  41, 100, 121,  49, 117,  59,  60,  33],\n",
    "#        [100,  72,  37,  41, 100, 121,  49, 117,  59,  60,  33],\n",
    "#        [100,  72,  37,  41, 100, 121,  49, 117,  59,  60,  33],\n",
    "#        [100,  72,  37,  41, 100, 121,  49, 117,  59,  60,  33]]\n",
    "\n",
    "# TARGET_ASCII = [89, 111, 117,  32, 103, 101, 116,  32, 105, 116,  33]\n",
    "\n",
    "# print ( (pop == TARGET_ASCII).sum(axis=1) )\n",
    "\n",
    "print (np.random.choice(np.arange(5), 3, replace=False, p=[0.1, 0, 0.3, 0.6, 0]))\n"
   ]
  },
  {
   "cell_type": "code",
   "execution_count": 57,
   "metadata": {
    "collapsed": false
   },
   "outputs": [
    {
     "name": "stdout",
     "output_type": "stream",
     "text": [
      "[[ 62  39 100  57  35  94  79 109  69  99 118]\n",
      " [ 68  78  71 104 119 125 105 112  56  86  45]\n",
      " [ 69 125  75  32 125  93 124  98  84  39 121]\n",
      " [ 43  62  37  65  84  45 108  69  37  52  98]\n",
      " [ 75  99  77 122  49 115  43  68  55 100  67]]\n",
      "16\n"
     ]
    },
    {
     "ename": "IndexError",
     "evalue": "index 16 is out of bounds for axis 0 with size 5",
     "output_type": "error",
     "traceback": [
      "\u001b[0;31m---------------------------------------------------------------------------\u001b[0m",
      "\u001b[0;31mIndexError\u001b[0m                                Traceback (most recent call last)",
      "\u001b[0;32m<ipython-input-57-dd7cbd60f367>\u001b[0m in \u001b[0;36m<module>\u001b[0;34m()\u001b[0m\n\u001b[1;32m     25\u001b[0m \u001b[0mprint\u001b[0m\u001b[0;34m(\u001b[0m\u001b[0mindex\u001b[0m\u001b[0;34m)\u001b[0m\u001b[0;34m\u001b[0m\u001b[0m\n\u001b[1;32m     26\u001b[0m \u001b[0;34m\u001b[0m\u001b[0m\n\u001b[0;32m---> 27\u001b[0;31m \u001b[0mprint\u001b[0m \u001b[0;34m(\u001b[0m\u001b[0;34m'The individual: '\u001b[0m\u001b[0;34m,\u001b[0m\u001b[0mpopulations\u001b[0m\u001b[0;34m[\u001b[0m\u001b[0mindex\u001b[0m\u001b[0;34m]\u001b[0m\u001b[0;34m)\u001b[0m\u001b[0;34m\u001b[0m\u001b[0m\n\u001b[0m\u001b[1;32m     28\u001b[0m \u001b[0;34m\u001b[0m\u001b[0m\n\u001b[1;32m     29\u001b[0m \u001b[0mprint\u001b[0m \u001b[0;34m(\u001b[0m\u001b[0;34m'Terget Ascii: '\u001b[0m\u001b[0;34m,\u001b[0m\u001b[0mTARGET_ASCII\u001b[0m\u001b[0;34m)\u001b[0m\u001b[0;34m\u001b[0m\u001b[0m\n",
      "\u001b[0;31mIndexError\u001b[0m: index 16 is out of bounds for axis 0 with size 5"
     ]
    }
   ],
   "source": [
    "import numpy as np\n",
    "\n",
    "TARGET_PHRASE = 'You get it!'       # target DNA\n",
    "\n",
    "CROSS_RATE = 0.4                    # mating probability (DNA crossover)\n",
    "MUTATION_RATE = 0.01                # mutation probability\n",
    "N_GENERATIONS = 1000\n",
    "\n",
    "\n",
    "TARGET_ASCII = np.fromstring(TARGET_PHRASE, dtype=np.uint8)  # convert string to number\n",
    "\n",
    "DNA_size = len(TARGET_PHRASE)\n",
    "DNA_bound = [32, 126]\n",
    "pop_size = 5                    # population size\n",
    "\n",
    "populations = np.random.randint(*DNA_bound, size=(pop_size, DNA_size)).astype(np.int8)\n",
    "\n",
    "def get_fitness(pop, TARGET_ASCII):                      # count how many character matches\n",
    "    match_count = (pop == TARGET_ASCII).sum(axis=1)\n",
    "    return match_count\n",
    "\n",
    "print (populations)\n",
    "\n",
    "index = np.argmax(populations)\n",
    "print(index)\n",
    "\n",
    "print ('The individual: ',populations[index])\n",
    "\n",
    "print ('Terget Ascii: ',TARGET_ASCII)\n",
    "\n",
    "print (get_fitness(populations, TARGET_ASCII))\n",
    "print (get_fitness(populations, TARGET_ASCII))"
   ]
  }
 ],
 "metadata": {
  "kernelspec": {
   "display_name": "Python 3",
   "language": "python",
   "name": "python3"
  },
  "language_info": {
   "codemirror_mode": {
    "name": "ipython",
    "version": 3
   },
   "file_extension": ".py",
   "mimetype": "text/x-python",
   "name": "python",
   "nbconvert_exporter": "python",
   "pygments_lexer": "ipython3",
   "version": "3.6.0"
  }
 },
 "nbformat": 4,
 "nbformat_minor": 2
}
